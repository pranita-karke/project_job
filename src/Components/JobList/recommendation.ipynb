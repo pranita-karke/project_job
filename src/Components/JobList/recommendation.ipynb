{
 "cells": [
  {
   "cell_type": "code",
   "execution_count": 1,
   "metadata": {},
   "outputs": [
    {
     "data": {
      "text/html": [
       "<div>\n",
       "<style scoped>\n",
       "    .dataframe tbody tr th:only-of-type {\n",
       "        vertical-align: middle;\n",
       "    }\n",
       "\n",
       "    .dataframe tbody tr th {\n",
       "        vertical-align: top;\n",
       "    }\n",
       "\n",
       "    .dataframe thead th {\n",
       "        text-align: right;\n",
       "    }\n",
       "</style>\n",
       "<table border=\"1\" class=\"dataframe\">\n",
       "  <thead>\n",
       "    <tr style=\"text-align: right;\">\n",
       "      <th></th>\n",
       "      <th>Job Id</th>\n",
       "      <th>Experience</th>\n",
       "      <th>Qualifications</th>\n",
       "      <th>Salary Range</th>\n",
       "      <th>location</th>\n",
       "      <th>Work Type</th>\n",
       "      <th>Job Posting Date</th>\n",
       "      <th>Job Title</th>\n",
       "      <th>Role</th>\n",
       "      <th>Unnamed: 9</th>\n",
       "      <th>Job Description</th>\n",
       "      <th>Unnamed: 11</th>\n",
       "      <th>skills</th>\n",
       "      <th>Unnamed: 13</th>\n",
       "      <th>Company</th>\n",
       "    </tr>\n",
       "  </thead>\n",
       "  <tbody>\n",
       "    <tr>\n",
       "      <th>0</th>\n",
       "      <td>1.089844e+15</td>\n",
       "      <td>5 to 15 Years</td>\n",
       "      <td>M.Tech</td>\n",
       "      <td>$59K-$99K</td>\n",
       "      <td>Douglas</td>\n",
       "      <td>Intern</td>\n",
       "      <td>2022-04-24</td>\n",
       "      <td>Digital Marketing Specialist</td>\n",
       "      <td>Social Media Manager</td>\n",
       "      <td>NaN</td>\n",
       "      <td>Social Media Managers oversee an organizations...</td>\n",
       "      <td>NaN</td>\n",
       "      <td>Social media platforms (e.g., Facebook, Twitte...</td>\n",
       "      <td>NaN</td>\n",
       "      <td>Icahn Enterprises</td>\n",
       "    </tr>\n",
       "    <tr>\n",
       "      <th>1</th>\n",
       "      <td>3.984541e+14</td>\n",
       "      <td>2 to 12 Years</td>\n",
       "      <td>BCA</td>\n",
       "      <td>$56K-$116K</td>\n",
       "      <td>Ashgabat</td>\n",
       "      <td>Intern</td>\n",
       "      <td>2022-12-19</td>\n",
       "      <td>Web Developer</td>\n",
       "      <td>Frontend Web Developer</td>\n",
       "      <td>NaN</td>\n",
       "      <td>Frontend Web Developers design and implement u...</td>\n",
       "      <td>NaN</td>\n",
       "      <td>HTML, CSS, JavaScript Frontend frameworks (e.g...</td>\n",
       "      <td>NaN</td>\n",
       "      <td>PNC Financial Services Group</td>\n",
       "    </tr>\n",
       "    <tr>\n",
       "      <th>2</th>\n",
       "      <td>4.816401e+14</td>\n",
       "      <td>0 to 12 Years</td>\n",
       "      <td>PhD</td>\n",
       "      <td>$61K-$104K</td>\n",
       "      <td>Macao</td>\n",
       "      <td>Temporary</td>\n",
       "      <td>2022-09-14</td>\n",
       "      <td>Operations Manager</td>\n",
       "      <td>Quality Control Manager</td>\n",
       "      <td>NaN</td>\n",
       "      <td>Quality Control Managers establish and enforce...</td>\n",
       "      <td>NaN</td>\n",
       "      <td>Quality control processes and methodologies St...</td>\n",
       "      <td>NaN</td>\n",
       "      <td>United Services Automobile Assn.</td>\n",
       "    </tr>\n",
       "  </tbody>\n",
       "</table>\n",
       "</div>"
      ],
      "text/plain": [
       "         Job Id     Experience Qualifications Salary Range  location  \\\n",
       "0  1.089844e+15  5 to 15 Years         M.Tech    $59K-$99K   Douglas   \n",
       "1  3.984541e+14  2 to 12 Years            BCA   $56K-$116K  Ashgabat   \n",
       "2  4.816401e+14  0 to 12 Years            PhD   $61K-$104K     Macao   \n",
       "\n",
       "   Work Type Job Posting Date                     Job Title  \\\n",
       "0     Intern       2022-04-24  Digital Marketing Specialist   \n",
       "1     Intern       2022-12-19                 Web Developer   \n",
       "2  Temporary       2022-09-14            Operations Manager   \n",
       "\n",
       "                      Role  Unnamed: 9  \\\n",
       "0     Social Media Manager         NaN   \n",
       "1   Frontend Web Developer         NaN   \n",
       "2  Quality Control Manager         NaN   \n",
       "\n",
       "                                     Job Description  Unnamed: 11  \\\n",
       "0  Social Media Managers oversee an organizations...          NaN   \n",
       "1  Frontend Web Developers design and implement u...          NaN   \n",
       "2  Quality Control Managers establish and enforce...          NaN   \n",
       "\n",
       "                                              skills  Unnamed: 13  \\\n",
       "0  Social media platforms (e.g., Facebook, Twitte...          NaN   \n",
       "1  HTML, CSS, JavaScript Frontend frameworks (e.g...          NaN   \n",
       "2  Quality control processes and methodologies St...          NaN   \n",
       "\n",
       "                            Company  \n",
       "0                 Icahn Enterprises  \n",
       "1      PNC Financial Services Group  \n",
       "2  United Services Automobile Assn.  "
      ]
     },
     "execution_count": 1,
     "metadata": {},
     "output_type": "execute_result"
    }
   ],
   "source": [
    "import numpy as numpy\n",
    "import pandas as pd\n",
    "df = pd.read_excel('jobrecord.xlsx')\n",
    "df.to_csv('jobrecord.csv',index=False)\n",
    "df.head(3)"
   ]
  },
  {
   "cell_type": "code",
   "execution_count": 17,
   "metadata": {},
   "outputs": [
    {
     "name": "stdout",
     "output_type": "stream",
     "text": [
      "<class 'pandas.core.frame.DataFrame'>\n",
      "Index: 497 entries, 483 to 102\n",
      "Data columns (total 3 columns):\n",
      " #   Column           Non-Null Count  Dtype \n",
      "---  ------           --------------  ----- \n",
      " 0   Job Title        484 non-null    object\n",
      " 1   Job Description  484 non-null    object\n",
      " 2   new_col          497 non-null    object\n",
      "dtypes: object(3)\n",
      "memory usage: 31.7+ KB\n"
     ]
    }
   ],
   "source": [
    "df.info()"
   ]
  },
  {
   "cell_type": "code",
   "execution_count": 23,
   "metadata": {},
   "outputs": [
    {
     "data": {
      "text/html": [
       "<div>\n",
       "<style scoped>\n",
       "    .dataframe tbody tr th:only-of-type {\n",
       "        vertical-align: middle;\n",
       "    }\n",
       "\n",
       "    .dataframe tbody tr th {\n",
       "        vertical-align: top;\n",
       "    }\n",
       "\n",
       "    .dataframe thead th {\n",
       "        text-align: right;\n",
       "    }\n",
       "</style>\n",
       "<table border=\"1\" class=\"dataframe\">\n",
       "  <thead>\n",
       "    <tr style=\"text-align: right;\">\n",
       "      <th></th>\n",
       "      <th>Job Title</th>\n",
       "      <th>Job Description</th>\n",
       "    </tr>\n",
       "  </thead>\n",
       "  <tbody>\n",
       "    <tr>\n",
       "      <th>458</th>\n",
       "      <td>Database Developer</td>\n",
       "      <td>NoSQL Database Engineers work with non-relatio...</td>\n",
       "    </tr>\n",
       "    <tr>\n",
       "      <th>69</th>\n",
       "      <td>UX/UI Designer</td>\n",
       "      <td>User Interface Designers focus on the visual a...</td>\n",
       "    </tr>\n",
       "    <tr>\n",
       "      <th>158</th>\n",
       "      <td>Legal Assistant</td>\n",
       "      <td>Provide administrative support to legal profes...</td>\n",
       "    </tr>\n",
       "    <tr>\n",
       "      <th>377</th>\n",
       "      <td>Sales Representative</td>\n",
       "      <td>Account Executives manage and grow relationshi...</td>\n",
       "    </tr>\n",
       "    <tr>\n",
       "      <th>10</th>\n",
       "      <td>Network Administrator</td>\n",
       "      <td>Protect an organizations computer networks and...</td>\n",
       "    </tr>\n",
       "    <tr>\n",
       "      <th>205</th>\n",
       "      <td>Physician Assistant</td>\n",
       "      <td>Assist surgeons in the operating room, perform...</td>\n",
       "    </tr>\n",
       "    <tr>\n",
       "      <th>60</th>\n",
       "      <td>Project Manager</td>\n",
       "      <td>The Agile Project Manager leads Agile teams, f...</td>\n",
       "    </tr>\n",
       "    <tr>\n",
       "      <th>360</th>\n",
       "      <td>Supply Chain Manager</td>\n",
       "      <td>A Logistics Manager oversees the movement and ...</td>\n",
       "    </tr>\n",
       "    <tr>\n",
       "      <th>457</th>\n",
       "      <td>Substance Abuse Counselor</td>\n",
       "      <td>A Family Counselor works with families to addr...</td>\n",
       "    </tr>\n",
       "    <tr>\n",
       "      <th>9</th>\n",
       "      <td>Mechanical Engineer</td>\n",
       "      <td>Mechanical Design Engineers create and develop...</td>\n",
       "    </tr>\n",
       "  </tbody>\n",
       "</table>\n",
       "</div>"
      ],
      "text/plain": [
       "                     Job Title  \\\n",
       "458         Database Developer   \n",
       "69              UX/UI Designer   \n",
       "158            Legal Assistant   \n",
       "377       Sales Representative   \n",
       "10       Network Administrator   \n",
       "205        Physician Assistant   \n",
       "60             Project Manager   \n",
       "360       Supply Chain Manager   \n",
       "457  Substance Abuse Counselor   \n",
       "9          Mechanical Engineer   \n",
       "\n",
       "                                       Job Description  \n",
       "458  NoSQL Database Engineers work with non-relatio...  \n",
       "69   User Interface Designers focus on the visual a...  \n",
       "158  Provide administrative support to legal profes...  \n",
       "377  Account Executives manage and grow relationshi...  \n",
       "10   Protect an organizations computer networks and...  \n",
       "205  Assist surgeons in the operating room, perform...  \n",
       "60   The Agile Project Manager leads Agile teams, f...  \n",
       "360  A Logistics Manager oversees the movement and ...  \n",
       "457  A Family Counselor works with families to addr...  \n",
       "9    Mechanical Design Engineers create and develop...  "
      ]
     },
     "execution_count": 23,
     "metadata": {},
     "output_type": "execute_result"
    }
   ],
   "source": [
    "df = df[['Job Title','Job Description']]\n",
    "df.head(10)"
   ]
  },
  {
   "cell_type": "code",
   "execution_count": 37,
   "metadata": {},
   "outputs": [
    {
     "data": {
      "text/plain": [
       "'Web Developer'"
      ]
     },
     "execution_count": 37,
     "metadata": {},
     "output_type": "execute_result"
    }
   ],
   "source": [
    "df['Job Title'][1]"
   ]
  },
  {
   "cell_type": "code",
   "execution_count": 50,
   "metadata": {},
   "outputs": [
    {
     "data": {
      "text/plain": [
       "'Frontend Web Developers design and implement user interfaces for websites, ensuring they are visually appealing and user-friendly. They collaborate with designers and backend developers to create seamless web experiences for users.'"
      ]
     },
     "execution_count": 50,
     "metadata": {},
     "output_type": "execute_result"
    }
   ],
   "source": [
    "df['Job Description'][1]"
   ]
  },
  {
   "cell_type": "code",
   "execution_count": 62,
   "metadata": {},
   "outputs": [
    {
     "name": "stdout",
     "output_type": "stream",
     "text": [
      "(497, 3)\n"
     ]
    }
   ],
   "source": [
    "df = df.sample(n=497, random_state=42)\n",
    "print(df.shape)\n"
   ]
  },
  {
   "cell_type": "code",
   "execution_count": 73,
   "metadata": {},
   "outputs": [],
   "source": [
    "df['new_col'] = df['Job Title']+\" \"+df['Job Description']\n"
   ]
  },
  {
   "cell_type": "code",
   "execution_count": 83,
   "metadata": {},
   "outputs": [],
   "source": [
    "from sklearn.feature_extraction.text import TfidfVectorizer\n",
    "from sklearn.metrics.pairwise import cosine_similarity"
   ]
  },
  {
   "cell_type": "code",
   "execution_count": 92,
   "metadata": {},
   "outputs": [],
   "source": [
    "df['new_col'] = df['new_col'].astype(str)  \n",
    "tfif = TfidfVectorizer()\n",
    "matrix = tfif.fit_transform(df['new_col'])\n",
    "similarity = cosine_similarity(matrix)\n"
   ]
  },
  {
   "cell_type": "code",
   "execution_count": 100,
   "metadata": {},
   "outputs": [
    {
     "data": {
      "text/plain": [
       "array([[1.        , 0.03187147, 0.03096514, ..., 0.06622033, 0.01925061,\n",
       "        0.02496261],\n",
       "       [0.03187147, 1.        , 0.00475723, ..., 0.03741643, 0.02726012,\n",
       "        0.05018172],\n",
       "       [0.03096514, 0.00475723, 1.        , ..., 0.00553245, 0.0074957 ,\n",
       "        0.00613368],\n",
       "       ...,\n",
       "       [0.06622033, 0.03741643, 0.00553245, ..., 1.        , 0.01631688,\n",
       "        0.048449  ],\n",
       "       [0.01925061, 0.02726012, 0.0074957 , ..., 0.01631688, 1.        ,\n",
       "        0.01329266],\n",
       "       [0.02496261, 0.05018172, 0.00613368, ..., 0.048449  , 0.01329266,\n",
       "        1.        ]])"
      ]
     },
     "execution_count": 100,
     "metadata": {},
     "output_type": "execute_result"
    }
   ],
   "source": [
    "similarity"
   ]
  },
  {
   "cell_type": "code",
   "execution_count": 107,
   "metadata": {},
   "outputs": [
    {
     "data": {
      "text/plain": [
       "<enumerate at 0x2be7f49db70>"
      ]
     },
     "execution_count": 107,
     "metadata": {},
     "output_type": "execute_result"
    }
   ],
   "source": [
    "enumerate(similarity[0])"
   ]
  },
  {
   "cell_type": "code",
   "execution_count": 113,
   "metadata": {},
   "outputs": [
    {
     "data": {
      "text/plain": [
       "[(379, 0.9999999999999999),\n",
       " (119, 0.5047968833967644),\n",
       " (140, 0.5047968833967644),\n",
       " (268, 0.48673334764830467),\n",
       " (377, 0.3598474092068602),\n",
       " (306, 0.3547845596532202),\n",
       " (438, 0.3547845596532202),\n",
       " (74, 0.34530284727683347),\n",
       " (454, 0.34530284727683347),\n",
       " (360, 0.29065641677318127),\n",
       " (95, 0.2652084337455025),\n",
       " (248, 0.2639035276963511),\n",
       " (366, 0.26296589890444355),\n",
       " (453, 0.26296589890444355),\n",
       " (132, 0.251607431075991),\n",
       " (271, 0.251607431075991),\n",
       " (159, 0.23232769081067034),\n",
       " (184, 0.23232769081067034),\n",
       " (406, 0.22518704216856777)]"
      ]
     },
     "execution_count": 113,
     "metadata": {},
     "output_type": "execute_result"
    }
   ],
   "source": [
    "sorted(list(enumerate(similarity[0])), key=lambda x: x[1], reverse=True)[1:20]"
   ]
  },
  {
   "cell_type": "code",
   "execution_count": 118,
   "metadata": {},
   "outputs": [],
   "source": [
    "def recommend(title):\n",
    "\n",
    "        indx = df[df['Job Title'] == title].index[0]\n",
    "        indx = df.index.get_loc(indx)\n",
    "        distances = sorted(list(enumerate(similarity[indx])), key=lambda x: x[1], reverse=True)[1:20]\n",
    "\n",
    "        jobs = []\n",
    "        for i in distances:\n",
    "            jobs.append(df.iloc[i[0]]['Job Title'])\n",
    "        return jobs"
   ]
  },
  {
   "cell_type": "code",
   "execution_count": 122,
   "metadata": {},
   "outputs": [
    {
     "data": {
      "text/plain": [
       "['Software Tester',\n",
       " 'Quality Assurance Analyst',\n",
       " 'Quality Assurance Analyst',\n",
       " 'Software Tester',\n",
       " 'Software Tester',\n",
       " 'Software Tester',\n",
       " 'Software Tester',\n",
       " 'Software Tester',\n",
       " 'Software Tester',\n",
       " 'Software Tester',\n",
       " 'Software Tester',\n",
       " 'Software Tester',\n",
       " 'Network Analyst',\n",
       " 'Software Architect',\n",
       " 'Software Architect',\n",
       " 'Software Architect',\n",
       " 'QA Engineer',\n",
       " 'QA Engineer',\n",
       " 'Java Developer']"
      ]
     },
     "execution_count": 122,
     "metadata": {},
     "output_type": "execute_result"
    }
   ],
   "source": [
    "recommend('QA Analyst')"
   ]
  },
  {
   "cell_type": "code",
   "execution_count": null,
   "metadata": {},
   "outputs": [
    {
     "data": {
      "text/plain": [
       "['similarity.pkl']"
      ]
     },
     "execution_count": 128,
     "metadata": {},
     "output_type": "execute_result"
    }
   ],
   "source": [
    "import joblib\n",
    "\n",
    "\n",
    "joblib.dump(df, 'df.pkl')\n",
    "joblib.dump(similarity, 'similarity.pkl')\n"
   ]
  },
  {
   "cell_type": "code",
   "execution_count": 129,
   "metadata": {},
   "outputs": [
    {
     "name": "stdout",
     "output_type": "stream",
     "text": [
      "2.0.3\n"
     ]
    }
   ],
   "source": [
    "\n",
    "import pandas as pd\n",
    "print(pd.__version__)"
   ]
  }
 ],
 "metadata": {
  "kernelspec": {
   "display_name": "Python 3",
   "language": "python",
   "name": "python3"
  },
  "language_info": {
   "codemirror_mode": {
    "name": "ipython",
    "version": 3
   },
   "file_extension": ".py",
   "mimetype": "text/x-python",
   "name": "python",
   "nbconvert_exporter": "python",
   "pygments_lexer": "ipython3",
   "version": "3.11.4"
  }
 },
 "nbformat": 4,
 "nbformat_minor": 2
}
