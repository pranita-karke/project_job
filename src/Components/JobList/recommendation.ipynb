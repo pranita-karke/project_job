{
 "cells": [
  {
   "cell_type": "code",
   "execution_count": 493,
   "metadata": {},
   "outputs": [
    {
     "data": {
      "text/html": [
       "<div>\n",
       "<style scoped>\n",
       "    .dataframe tbody tr th:only-of-type {\n",
       "        vertical-align: middle;\n",
       "    }\n",
       "\n",
       "    .dataframe tbody tr th {\n",
       "        vertical-align: top;\n",
       "    }\n",
       "\n",
       "    .dataframe thead th {\n",
       "        text-align: right;\n",
       "    }\n",
       "</style>\n",
       "<table border=\"1\" class=\"dataframe\">\n",
       "  <thead>\n",
       "    <tr style=\"text-align: right;\">\n",
       "      <th></th>\n",
       "      <th>Job Id</th>\n",
       "      <th>Experience</th>\n",
       "      <th>Qualifications</th>\n",
       "      <th>Salary Range</th>\n",
       "      <th>location</th>\n",
       "      <th>Work Type</th>\n",
       "      <th>Job Posting Date</th>\n",
       "      <th>Job Title</th>\n",
       "      <th>Role</th>\n",
       "      <th>Unnamed: 9</th>\n",
       "      <th>Job Description</th>\n",
       "      <th>Unnamed: 11</th>\n",
       "      <th>skills</th>\n",
       "      <th>Unnamed: 13</th>\n",
       "      <th>Company</th>\n",
       "    </tr>\n",
       "  </thead>\n",
       "  <tbody>\n",
       "    <tr>\n",
       "      <th>0</th>\n",
       "      <td>1.296142e+15</td>\n",
       "      <td>4 to 13 Years</td>\n",
       "      <td>MBA</td>\n",
       "      <td>$59K-$115K</td>\n",
       "      <td>City of Port Louis</td>\n",
       "      <td>Temporary</td>\n",
       "      <td>2023-04-10</td>\n",
       "      <td>Front-End Developer</td>\n",
       "      <td>Accessibility Developer</td>\n",
       "      <td>NaN</td>\n",
       "      <td>An Accessibility Developer focuses on making d...</td>\n",
       "      <td>NaN</td>\n",
       "      <td>Web accessibility standards (e.g., WCAG) Assis...</td>\n",
       "      <td>NaN</td>\n",
       "      <td>Otis Worldwide</td>\n",
       "    </tr>\n",
       "    <tr>\n",
       "      <th>1</th>\n",
       "      <td>4.368255e+14</td>\n",
       "      <td>1 to 10 Years</td>\n",
       "      <td>BA</td>\n",
       "      <td>$62K-$94K</td>\n",
       "      <td>Castries</td>\n",
       "      <td>Full-Time</td>\n",
       "      <td>2022-11-27</td>\n",
       "      <td>Sales Representative</td>\n",
       "      <td>Account Executive</td>\n",
       "      <td>NaN</td>\n",
       "      <td>Account Executives manage and grow relationshi...</td>\n",
       "      <td>NaN</td>\n",
       "      <td>Sales strategy and planning Account management...</td>\n",
       "      <td>NaN</td>\n",
       "      <td>Qualcomm</td>\n",
       "    </tr>\n",
       "    <tr>\n",
       "      <th>2</th>\n",
       "      <td>1.648324e+15</td>\n",
       "      <td>4 to 12 Years</td>\n",
       "      <td>BCA</td>\n",
       "      <td>$55K-$111K</td>\n",
       "      <td>Muscat</td>\n",
       "      <td>Contract</td>\n",
       "      <td>2023-03-17</td>\n",
       "      <td>Customer Success Manager</td>\n",
       "      <td>Account Manager</td>\n",
       "      <td>NaN</td>\n",
       "      <td>An Account Manager builds and maintains relati...</td>\n",
       "      <td>NaN</td>\n",
       "      <td>Account management Customer relationship manag...</td>\n",
       "      <td>NaN</td>\n",
       "      <td>Huntsman</td>\n",
       "    </tr>\n",
       "  </tbody>\n",
       "</table>\n",
       "</div>"
      ],
      "text/plain": [
       "         Job Id     Experience Qualifications Salary Range  \\\n",
       "0  1.296142e+15  4 to 13 Years            MBA   $59K-$115K   \n",
       "1  4.368255e+14  1 to 10 Years             BA    $62K-$94K   \n",
       "2  1.648324e+15  4 to 12 Years            BCA   $55K-$111K   \n",
       "\n",
       "             location  Work Type Job Posting Date                 Job Title  \\\n",
       "0  City of Port Louis  Temporary       2023-04-10       Front-End Developer   \n",
       "1            Castries  Full-Time       2022-11-27      Sales Representative   \n",
       "2              Muscat   Contract       2023-03-17  Customer Success Manager   \n",
       "\n",
       "                      Role  Unnamed: 9  \\\n",
       "0  Accessibility Developer         NaN   \n",
       "1        Account Executive         NaN   \n",
       "2          Account Manager         NaN   \n",
       "\n",
       "                                     Job Description  Unnamed: 11  \\\n",
       "0  An Accessibility Developer focuses on making d...          NaN   \n",
       "1  Account Executives manage and grow relationshi...          NaN   \n",
       "2  An Account Manager builds and maintains relati...          NaN   \n",
       "\n",
       "                                              skills  Unnamed: 13  \\\n",
       "0  Web accessibility standards (e.g., WCAG) Assis...          NaN   \n",
       "1  Sales strategy and planning Account management...          NaN   \n",
       "2  Account management Customer relationship manag...          NaN   \n",
       "\n",
       "          Company  \n",
       "0  Otis Worldwide  \n",
       "1        Qualcomm  \n",
       "2        Huntsman  "
      ]
     },
     "execution_count": 493,
     "metadata": {},
     "output_type": "execute_result"
    }
   ],
   "source": [
    "import numpy as numpy\n",
    "import pandas as pd\n",
    "df = pd.read_excel('jobrecord.xlsx')\n",
    "df.to_csv('jobrecord.csv',index=False)\n",
    "df.head(3)"
   ]
  },
  {
   "cell_type": "code",
   "execution_count": 510,
   "metadata": {},
   "outputs": [
    {
     "name": "stdout",
     "output_type": "stream",
     "text": [
      "<class 'pandas.core.frame.DataFrame'>\n",
      "Index: 263 entries, 115 to 102\n",
      "Data columns (total 3 columns):\n",
      " #   Column           Non-Null Count  Dtype \n",
      "---  ------           --------------  ----- \n",
      " 0   Role             263 non-null    object\n",
      " 1   Job Description  263 non-null    object\n",
      " 2   new_col          263 non-null    object\n",
      "dtypes: object(3)\n",
      "memory usage: 16.3+ KB\n"
     ]
    }
   ],
   "source": [
    "df.info()"
   ]
  },
  {
   "cell_type": "code",
   "execution_count": 526,
   "metadata": {},
   "outputs": [
    {
     "name": "stdout",
     "output_type": "stream",
     "text": [
      "['Role', 'Job Description', 'new_col']\n"
     ]
    }
   ],
   "source": [
    "print(df.columns.tolist())\n",
    "\n"
   ]
  },
  {
   "cell_type": "code",
   "execution_count": 541,
   "metadata": {},
   "outputs": [
    {
     "data": {
      "text/html": [
       "<div>\n",
       "<style scoped>\n",
       "    .dataframe tbody tr th:only-of-type {\n",
       "        vertical-align: middle;\n",
       "    }\n",
       "\n",
       "    .dataframe tbody tr th {\n",
       "        vertical-align: top;\n",
       "    }\n",
       "\n",
       "    .dataframe thead th {\n",
       "        text-align: right;\n",
       "    }\n",
       "</style>\n",
       "<table border=\"1\" class=\"dataframe\">\n",
       "  <thead>\n",
       "    <tr style=\"text-align: right;\">\n",
       "      <th></th>\n",
       "      <th>Role</th>\n",
       "      <th>Job Description</th>\n",
       "    </tr>\n",
       "  </thead>\n",
       "  <tbody>\n",
       "    <tr>\n",
       "      <th>151</th>\n",
       "      <td>Mental Health Counselor</td>\n",
       "      <td>Offer counseling and therapy services to indiv...</td>\n",
       "    </tr>\n",
       "    <tr>\n",
       "      <th>108</th>\n",
       "      <td>HR Compliance Specialist</td>\n",
       "      <td>An HR Compliance Specialist ensures adherence ...</td>\n",
       "    </tr>\n",
       "    <tr>\n",
       "      <th>49</th>\n",
       "      <td>Content Writer</td>\n",
       "      <td>Content Writers create written content for var...</td>\n",
       "    </tr>\n",
       "    <tr>\n",
       "      <th>200</th>\n",
       "      <td>Risk Analyst</td>\n",
       "      <td>A Risk Analyst assesses and manages financial ...</td>\n",
       "    </tr>\n",
       "    <tr>\n",
       "      <th>11</th>\n",
       "      <td>Advertising Account Executive</td>\n",
       "      <td>An Advertising Account Executive works in adve...</td>\n",
       "    </tr>\n",
       "    <tr>\n",
       "      <th>162</th>\n",
       "      <td>Office Manager</td>\n",
       "      <td>Office Managers oversee daily office operation...</td>\n",
       "    </tr>\n",
       "    <tr>\n",
       "      <th>203</th>\n",
       "      <td>Sales Manager</td>\n",
       "      <td>A Sales Manager leads and guides the sales tea...</td>\n",
       "    </tr>\n",
       "    <tr>\n",
       "      <th>12</th>\n",
       "      <td>Agile Project Manager</td>\n",
       "      <td>The Agile Project Manager leads Agile teams, f...</td>\n",
       "    </tr>\n",
       "    <tr>\n",
       "      <th>65</th>\n",
       "      <td>Database Administrator</td>\n",
       "      <td>Database Administrators manage databases, ensu...</td>\n",
       "    </tr>\n",
       "    <tr>\n",
       "      <th>38</th>\n",
       "      <td>Clinical Psychologist</td>\n",
       "      <td>Clinical Psychologists diagnose and treat ment...</td>\n",
       "    </tr>\n",
       "  </tbody>\n",
       "</table>\n",
       "</div>"
      ],
      "text/plain": [
       "                              Role  \\\n",
       "151        Mental Health Counselor   \n",
       "108       HR Compliance Specialist   \n",
       "49                  Content Writer   \n",
       "200                   Risk Analyst   \n",
       "11   Advertising Account Executive   \n",
       "162                 Office Manager   \n",
       "203                  Sales Manager   \n",
       "12           Agile Project Manager   \n",
       "65          Database Administrator   \n",
       "38           Clinical Psychologist   \n",
       "\n",
       "                                       Job Description  \n",
       "151  Offer counseling and therapy services to indiv...  \n",
       "108  An HR Compliance Specialist ensures adherence ...  \n",
       "49   Content Writers create written content for var...  \n",
       "200  A Risk Analyst assesses and manages financial ...  \n",
       "11   An Advertising Account Executive works in adve...  \n",
       "162  Office Managers oversee daily office operation...  \n",
       "203  A Sales Manager leads and guides the sales tea...  \n",
       "12   The Agile Project Manager leads Agile teams, f...  \n",
       "65   Database Administrators manage databases, ensu...  \n",
       "38   Clinical Psychologists diagnose and treat ment...  "
      ]
     },
     "execution_count": 541,
     "metadata": {},
     "output_type": "execute_result"
    }
   ],
   "source": [
    "df = df[['Role','Job Description']]\n",
    "df.head(10)"
   ]
  },
  {
   "cell_type": "code",
   "execution_count": 555,
   "metadata": {},
   "outputs": [
    {
     "data": {
      "text/plain": [
       "'Account Executive'"
      ]
     },
     "execution_count": 555,
     "metadata": {},
     "output_type": "execute_result"
    }
   ],
   "source": [
    "df['Role'][1]"
   ]
  },
  {
   "cell_type": "code",
   "execution_count": 568,
   "metadata": {},
   "outputs": [
    {
     "data": {
      "text/plain": [
       "'Account Executives manage and grow relationships with existing clients or customers. They understand client needs, propose solutions, negotiate contracts, and ensure customer satisfaction, often working closely with sales and customer support teams.'"
      ]
     },
     "execution_count": 568,
     "metadata": {},
     "output_type": "execute_result"
    }
   ],
   "source": [
    "df['Job Description'][1]"
   ]
  },
  {
   "cell_type": "code",
   "execution_count": 580,
   "metadata": {},
   "outputs": [
    {
     "name": "stdout",
     "output_type": "stream",
     "text": [
      "(263, 3)\n"
     ]
    }
   ],
   "source": [
    "df = df.sample(n=263, random_state=42)\n",
    "print(df.shape)\n"
   ]
  },
  {
   "cell_type": "code",
   "execution_count": 601,
   "metadata": {},
   "outputs": [],
   "source": [
    "df['new_col'] = df['Role']+\" \"+df['Job Description']\n"
   ]
  },
  {
   "cell_type": "code",
   "execution_count": 611,
   "metadata": {},
   "outputs": [],
   "source": [
    "from sklearn.feature_extraction.text import TfidfVectorizer\n",
    "from sklearn.metrics.pairwise import cosine_similarity"
   ]
  },
  {
   "cell_type": "code",
   "execution_count": 620,
   "metadata": {},
   "outputs": [],
   "source": [
    "df['new_col'] = df['new_col'].astype(str)  \n",
    "tfif = TfidfVectorizer()\n",
    "matrix = tfif.fit_transform(df['new_col'])\n",
    "similarity = cosine_similarity(matrix)\n"
   ]
  },
  {
   "cell_type": "code",
   "execution_count": 628,
   "metadata": {},
   "outputs": [
    {
     "data": {
      "text/plain": [
       "array([[1.        , 0.02802631, 0.01975702, ..., 0.02288448, 0.05951881,\n",
       "        0.01073178],\n",
       "       [0.02802631, 1.        , 0.00572448, ..., 0.03239521, 0.05225256,\n",
       "        0.00779101],\n",
       "       [0.01975702, 0.00572448, 1.        , ..., 0.01030064, 0.00666605,\n",
       "        0.0055584 ],\n",
       "       ...,\n",
       "       [0.02288448, 0.03239521, 0.01030064, ..., 1.        , 0.04114931,\n",
       "        0.03538642],\n",
       "       [0.05951881, 0.05225256, 0.00666605, ..., 0.04114931, 1.        ,\n",
       "        0.00907249],\n",
       "       [0.01073178, 0.00779101, 0.0055584 , ..., 0.03538642, 0.00907249,\n",
       "        1.        ]])"
      ]
     },
     "execution_count": 628,
     "metadata": {},
     "output_type": "execute_result"
    }
   ],
   "source": [
    "similarity"
   ]
  },
  {
   "cell_type": "code",
   "execution_count": 635,
   "metadata": {},
   "outputs": [
    {
     "data": {
      "text/plain": [
       "<enumerate at 0x2be044f3560>"
      ]
     },
     "execution_count": 635,
     "metadata": {},
     "output_type": "execute_result"
    }
   ],
   "source": [
    "enumerate(similarity[0])"
   ]
  },
  {
   "cell_type": "code",
   "execution_count": 641,
   "metadata": {},
   "outputs": [
    {
     "data": {
      "text/plain": [
       "[(245, 0.43371622029061796),\n",
       " (110, 0.4176792332083187),\n",
       " (59, 0.33928719336822205),\n",
       " (102, 0.321777587406672),\n",
       " (173, 0.25358754522512844),\n",
       " (74, 0.21727071778740173),\n",
       " (135, 0.21156141736157946),\n",
       " (219, 0.13144686883959608),\n",
       " (138, 0.13042276666620423),\n",
       " (35, 0.10381345923466401),\n",
       " (69, 0.09972459989396702),\n",
       " (165, 0.09553535779252297),\n",
       " (71, 0.09200214218387835),\n",
       " (34, 0.08882808927541463),\n",
       " (95, 0.08719554619513838),\n",
       " (45, 0.08717941367618905),\n",
       " (57, 0.08615628976391428),\n",
       " (251, 0.08366052438976603),\n",
       " (152, 0.08149707614514146)]"
      ]
     },
     "execution_count": 641,
     "metadata": {},
     "output_type": "execute_result"
    }
   ],
   "source": [
    "sorted(list(enumerate(similarity[0])), key=lambda x: x[1], reverse=True)[1:20]"
   ]
  },
  {
   "cell_type": "code",
   "execution_count": 646,
   "metadata": {},
   "outputs": [],
   "source": [
    "def recommend(title):\n",
    "\n",
    "        indx = df[df['Role'] == title].index[0]\n",
    "        indx = df.index.get_loc(indx)\n",
    "        distances = sorted(list(enumerate(similarity[indx])), key=lambda x: x[1], reverse=True)[1:20]\n",
    "\n",
    "        jobs = []\n",
    "        for i in distances:\n",
    "            jobs.append(df.iloc[i[0]]['Role'])\n",
    "        return jobs"
   ]
  },
  {
   "cell_type": "code",
   "execution_count": 650,
   "metadata": {},
   "outputs": [
    {
     "data": {
      "text/plain": [
       "['Mental Health Counselor',\n",
       " 'Family Counselor',\n",
       " 'Investment Advisor',\n",
       " 'Customer Support Manager',\n",
       " 'Personal Assistant',\n",
       " 'Personal Secretary',\n",
       " 'Accessibility Developer',\n",
       " 'Operations Director',\n",
       " 'IT Director',\n",
       " 'Administrative Assistant',\n",
       " 'Adult Speech Therapist',\n",
       " 'Help Desk Support Specialist',\n",
       " 'Financial Analyst',\n",
       " 'Live Chat Support Agent',\n",
       " 'HR Compliance Specialist',\n",
       " 'Personal Tax Consultant',\n",
       " 'Strategic Sourcing Manager',\n",
       " 'City Planner',\n",
       " 'Pediatric Physical Therapist']"
      ]
     },
     "execution_count": 650,
     "metadata": {},
     "output_type": "execute_result"
    }
   ],
   "source": [
    "recommend('Addiction Counselor')"
   ]
  },
  {
   "cell_type": "code",
   "execution_count": 653,
   "metadata": {},
   "outputs": [
    {
     "data": {
      "text/plain": [
       "['similarity.pkl']"
      ]
     },
     "execution_count": 653,
     "metadata": {},
     "output_type": "execute_result"
    }
   ],
   "source": [
    "import joblib\n",
    "\n",
    "\n",
    "joblib.dump(df, 'df.pkl')\n",
    "joblib.dump(similarity, 'similarity.pkl')\n"
   ]
  },
  {
   "cell_type": "code",
   "execution_count": 655,
   "metadata": {},
   "outputs": [
    {
     "name": "stdout",
     "output_type": "stream",
     "text": [
      "2.0.3\n"
     ]
    }
   ],
   "source": [
    "\n",
    "import pandas as pd\n",
    "print(pd.__version__)"
   ]
  }
 ],
 "metadata": {
  "kernelspec": {
   "display_name": "Python 3",
   "language": "python",
   "name": "python3"
  },
  "language_info": {
   "codemirror_mode": {
    "name": "ipython",
    "version": 3
   },
   "file_extension": ".py",
   "mimetype": "text/x-python",
   "name": "python",
   "nbconvert_exporter": "python",
   "pygments_lexer": "ipython3",
   "version": "3.11.4"
  }
 },
 "nbformat": 4,
 "nbformat_minor": 2
}
