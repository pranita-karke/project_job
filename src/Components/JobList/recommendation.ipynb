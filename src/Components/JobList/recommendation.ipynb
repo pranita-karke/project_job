{
 "cells": [
  {
   "cell_type": "code",
   "execution_count": 3,
   "metadata": {},
   "outputs": [
    {
     "data": {
      "text/html": [
       "<div>\n",
       "<style scoped>\n",
       "    .dataframe tbody tr th:only-of-type {\n",
       "        vertical-align: middle;\n",
       "    }\n",
       "\n",
       "    .dataframe tbody tr th {\n",
       "        vertical-align: top;\n",
       "    }\n",
       "\n",
       "    .dataframe thead th {\n",
       "        text-align: right;\n",
       "    }\n",
       "</style>\n",
       "<table border=\"1\" class=\"dataframe\">\n",
       "  <thead>\n",
       "    <tr style=\"text-align: right;\">\n",
       "      <th></th>\n",
       "      <th>Job Id</th>\n",
       "      <th>Experience</th>\n",
       "      <th>Qualifications</th>\n",
       "      <th>Salary Range</th>\n",
       "      <th>location</th>\n",
       "      <th>Work Type</th>\n",
       "      <th>Job Posting Date</th>\n",
       "      <th>Job Title</th>\n",
       "      <th>Role</th>\n",
       "      <th>Unnamed: 9</th>\n",
       "      <th>Job Description</th>\n",
       "      <th>Unnamed: 11</th>\n",
       "      <th>skills</th>\n",
       "      <th>Unnamed: 13</th>\n",
       "      <th>Company</th>\n",
       "    </tr>\n",
       "  </thead>\n",
       "  <tbody>\n",
       "    <tr>\n",
       "      <th>0</th>\n",
       "      <td>1.296142e+15</td>\n",
       "      <td>4 to 13 Years</td>\n",
       "      <td>MBA</td>\n",
       "      <td>$59K-$115K</td>\n",
       "      <td>City of Port Louis</td>\n",
       "      <td>Temporary</td>\n",
       "      <td>2023-04-10</td>\n",
       "      <td>Front-End Developer</td>\n",
       "      <td>Accessibility Developer</td>\n",
       "      <td>NaN</td>\n",
       "      <td>An Accessibility Developer focuses on making d...</td>\n",
       "      <td>NaN</td>\n",
       "      <td>Web accessibility standards (e.g., WCAG) Assis...</td>\n",
       "      <td>NaN</td>\n",
       "      <td>Otis Worldwide</td>\n",
       "    </tr>\n",
       "    <tr>\n",
       "      <th>1</th>\n",
       "      <td>4.368255e+14</td>\n",
       "      <td>1 to 10 Years</td>\n",
       "      <td>BA</td>\n",
       "      <td>$62K-$94K</td>\n",
       "      <td>Castries</td>\n",
       "      <td>Full-Time</td>\n",
       "      <td>2022-11-27</td>\n",
       "      <td>Sales Representative</td>\n",
       "      <td>Account Executive</td>\n",
       "      <td>NaN</td>\n",
       "      <td>Account Executives manage and grow relationshi...</td>\n",
       "      <td>NaN</td>\n",
       "      <td>Sales strategy and planning Account management...</td>\n",
       "      <td>NaN</td>\n",
       "      <td>Qualcomm</td>\n",
       "    </tr>\n",
       "    <tr>\n",
       "      <th>2</th>\n",
       "      <td>1.648324e+15</td>\n",
       "      <td>4 to 12 Years</td>\n",
       "      <td>BCA</td>\n",
       "      <td>$55K-$111K</td>\n",
       "      <td>Muscat</td>\n",
       "      <td>Contract</td>\n",
       "      <td>2023-03-17</td>\n",
       "      <td>Customer Success Manager</td>\n",
       "      <td>Account Manager</td>\n",
       "      <td>NaN</td>\n",
       "      <td>An Account Manager builds and maintains relati...</td>\n",
       "      <td>NaN</td>\n",
       "      <td>Account management Customer relationship manag...</td>\n",
       "      <td>NaN</td>\n",
       "      <td>Huntsman</td>\n",
       "    </tr>\n",
       "  </tbody>\n",
       "</table>\n",
       "</div>"
      ],
      "text/plain": [
       "         Job Id     Experience Qualifications Salary Range  \\\n",
       "0  1.296142e+15  4 to 13 Years            MBA   $59K-$115K   \n",
       "1  4.368255e+14  1 to 10 Years             BA    $62K-$94K   \n",
       "2  1.648324e+15  4 to 12 Years            BCA   $55K-$111K   \n",
       "\n",
       "             location  Work Type Job Posting Date                 Job Title  \\\n",
       "0  City of Port Louis  Temporary       2023-04-10       Front-End Developer   \n",
       "1            Castries  Full-Time       2022-11-27      Sales Representative   \n",
       "2              Muscat   Contract       2023-03-17  Customer Success Manager   \n",
       "\n",
       "                      Role  Unnamed: 9  \\\n",
       "0  Accessibility Developer         NaN   \n",
       "1        Account Executive         NaN   \n",
       "2          Account Manager         NaN   \n",
       "\n",
       "                                     Job Description  Unnamed: 11  \\\n",
       "0  An Accessibility Developer focuses on making d...          NaN   \n",
       "1  Account Executives manage and grow relationshi...          NaN   \n",
       "2  An Account Manager builds and maintains relati...          NaN   \n",
       "\n",
       "                                              skills  Unnamed: 13  \\\n",
       "0  Web accessibility standards (e.g., WCAG) Assis...          NaN   \n",
       "1  Sales strategy and planning Account management...          NaN   \n",
       "2  Account management Customer relationship manag...          NaN   \n",
       "\n",
       "          Company  \n",
       "0  Otis Worldwide  \n",
       "1        Qualcomm  \n",
       "2        Huntsman  "
      ]
     },
     "execution_count": 3,
     "metadata": {},
     "output_type": "execute_result"
    }
   ],
   "source": [
    "import numpy as numpy\n",
    "import pandas as pd\n",
    "df = pd.read_excel('jobrecord.xlsx')\n",
    "df.to_csv('jobrecord.csv',index=False)\n",
    "df.head(3)"
   ]
  },
  {
   "cell_type": "code",
   "execution_count": 4,
   "metadata": {},
   "outputs": [
    {
     "name": "stdout",
     "output_type": "stream",
     "text": [
      "<class 'pandas.core.frame.DataFrame'>\n",
      "RangeIndex: 263 entries, 0 to 262\n",
      "Data columns (total 15 columns):\n",
      " #   Column            Non-Null Count  Dtype         \n",
      "---  ------            --------------  -----         \n",
      " 0   Job Id            262 non-null    float64       \n",
      " 1   Experience        263 non-null    object        \n",
      " 2   Qualifications    263 non-null    object        \n",
      " 3   Salary Range      263 non-null    object        \n",
      " 4   location          263 non-null    object        \n",
      " 5   Work Type         263 non-null    object        \n",
      " 6   Job Posting Date  263 non-null    datetime64[ns]\n",
      " 7   Job Title         263 non-null    object        \n",
      " 8   Role              263 non-null    object        \n",
      " 9   Unnamed: 9        0 non-null      float64       \n",
      " 10  Job Description   263 non-null    object        \n",
      " 11  Unnamed: 11       0 non-null      float64       \n",
      " 12  skills            263 non-null    object        \n",
      " 13  Unnamed: 13       0 non-null      float64       \n",
      " 14  Company           263 non-null    object        \n",
      "dtypes: datetime64[ns](1), float64(4), object(10)\n",
      "memory usage: 30.9+ KB\n"
     ]
    }
   ],
   "source": [
    "df.info()"
   ]
  },
  {
   "cell_type": "code",
   "execution_count": 5,
   "metadata": {},
   "outputs": [
    {
     "name": "stdout",
     "output_type": "stream",
     "text": [
      "['Job Id', 'Experience', 'Qualifications', 'Salary Range', 'location', 'Work Type', 'Job Posting Date', 'Job Title', 'Role', 'Unnamed: 9', 'Job Description', 'Unnamed: 11', 'skills', 'Unnamed: 13', 'Company']\n"
     ]
    }
   ],
   "source": [
    "print(df.columns.tolist())\n",
    "\n"
   ]
  },
  {
   "cell_type": "code",
   "execution_count": 6,
   "metadata": {},
   "outputs": [
    {
     "data": {
      "text/html": [
       "<div>\n",
       "<style scoped>\n",
       "    .dataframe tbody tr th:only-of-type {\n",
       "        vertical-align: middle;\n",
       "    }\n",
       "\n",
       "    .dataframe tbody tr th {\n",
       "        vertical-align: top;\n",
       "    }\n",
       "\n",
       "    .dataframe thead th {\n",
       "        text-align: right;\n",
       "    }\n",
       "</style>\n",
       "<table border=\"1\" class=\"dataframe\">\n",
       "  <thead>\n",
       "    <tr style=\"text-align: right;\">\n",
       "      <th></th>\n",
       "      <th>Role</th>\n",
       "      <th>Job Description</th>\n",
       "    </tr>\n",
       "  </thead>\n",
       "  <tbody>\n",
       "    <tr>\n",
       "      <th>0</th>\n",
       "      <td>Accessibility Developer</td>\n",
       "      <td>An Accessibility Developer focuses on making d...</td>\n",
       "    </tr>\n",
       "    <tr>\n",
       "      <th>1</th>\n",
       "      <td>Account Executive</td>\n",
       "      <td>Account Executives manage and grow relationshi...</td>\n",
       "    </tr>\n",
       "    <tr>\n",
       "      <th>2</th>\n",
       "      <td>Account Manager</td>\n",
       "      <td>An Account Manager builds and maintains relati...</td>\n",
       "    </tr>\n",
       "    <tr>\n",
       "      <th>3</th>\n",
       "      <td>Account Strategist</td>\n",
       "      <td>Account Strategists work in advertising or mar...</td>\n",
       "    </tr>\n",
       "    <tr>\n",
       "      <th>4</th>\n",
       "      <td>Accounting Controller</td>\n",
       "      <td>Accounting Controllers manage an organizations...</td>\n",
       "    </tr>\n",
       "    <tr>\n",
       "      <th>5</th>\n",
       "      <td>Accounting Manager</td>\n",
       "      <td>Accounting Managers supervise accounting teams...</td>\n",
       "    </tr>\n",
       "    <tr>\n",
       "      <th>6</th>\n",
       "      <td>Acute Care Nurse Practitioner</td>\n",
       "      <td>Acute Care Nurse Practitioners focus on managi...</td>\n",
       "    </tr>\n",
       "    <tr>\n",
       "      <th>7</th>\n",
       "      <td>Addiction Counselor</td>\n",
       "      <td>An Addiction Counselor provides support and th...</td>\n",
       "    </tr>\n",
       "    <tr>\n",
       "      <th>8</th>\n",
       "      <td>Administrative Assistant</td>\n",
       "      <td>An Administrative Assistant provides administr...</td>\n",
       "    </tr>\n",
       "    <tr>\n",
       "      <th>9</th>\n",
       "      <td>Administrative Manager</td>\n",
       "      <td>Administrative Managers oversee office operati...</td>\n",
       "    </tr>\n",
       "  </tbody>\n",
       "</table>\n",
       "</div>"
      ],
      "text/plain": [
       "                            Role  \\\n",
       "0        Accessibility Developer   \n",
       "1              Account Executive   \n",
       "2                Account Manager   \n",
       "3             Account Strategist   \n",
       "4          Accounting Controller   \n",
       "5             Accounting Manager   \n",
       "6  Acute Care Nurse Practitioner   \n",
       "7            Addiction Counselor   \n",
       "8       Administrative Assistant   \n",
       "9         Administrative Manager   \n",
       "\n",
       "                                     Job Description  \n",
       "0  An Accessibility Developer focuses on making d...  \n",
       "1  Account Executives manage and grow relationshi...  \n",
       "2  An Account Manager builds and maintains relati...  \n",
       "3  Account Strategists work in advertising or mar...  \n",
       "4  Accounting Controllers manage an organizations...  \n",
       "5  Accounting Managers supervise accounting teams...  \n",
       "6  Acute Care Nurse Practitioners focus on managi...  \n",
       "7  An Addiction Counselor provides support and th...  \n",
       "8  An Administrative Assistant provides administr...  \n",
       "9  Administrative Managers oversee office operati...  "
      ]
     },
     "execution_count": 6,
     "metadata": {},
     "output_type": "execute_result"
    }
   ],
   "source": [
    "df = df[['Role','Job Description']]\n",
    "df.head(10)"
   ]
  },
  {
   "cell_type": "code",
   "execution_count": 7,
   "metadata": {},
   "outputs": [
    {
     "data": {
      "text/plain": [
       "'Account Executive'"
      ]
     },
     "execution_count": 7,
     "metadata": {},
     "output_type": "execute_result"
    }
   ],
   "source": [
    "df['Role'][1]"
   ]
  },
  {
   "cell_type": "code",
   "execution_count": 8,
   "metadata": {},
   "outputs": [
    {
     "data": {
      "text/plain": [
       "'Account Executives manage and grow relationships with existing clients or customers. They understand client needs, propose solutions, negotiate contracts, and ensure customer satisfaction, often working closely with sales and customer support teams.'"
      ]
     },
     "execution_count": 8,
     "metadata": {},
     "output_type": "execute_result"
    }
   ],
   "source": [
    "df['Job Description'][1]"
   ]
  },
  {
   "cell_type": "code",
   "execution_count": 9,
   "metadata": {},
   "outputs": [
    {
     "name": "stdout",
     "output_type": "stream",
     "text": [
      "(263, 2)\n"
     ]
    }
   ],
   "source": [
    "df = df.sample(n=263, random_state=42)\n",
    "print(df.shape)\n"
   ]
  },
  {
   "cell_type": "code",
   "execution_count": 10,
   "metadata": {},
   "outputs": [],
   "source": [
    "df['new_col'] = df['Role']+\" \"+df['Job Description']\n"
   ]
  },
  {
   "cell_type": "code",
   "execution_count": 11,
   "metadata": {},
   "outputs": [],
   "source": [
    "from sklearn.feature_extraction.text import TfidfVectorizer\n",
    "from sklearn.metrics.pairwise import cosine_similarity"
   ]
  },
  {
   "cell_type": "code",
   "execution_count": 12,
   "metadata": {},
   "outputs": [],
   "source": [
    "df['new_col'] = df['new_col'].astype(str)  \n",
    "tfif = TfidfVectorizer()\n",
    "matrix = tfif.fit_transform(df['new_col'])\n",
    "similarity = cosine_similarity(matrix)\n"
   ]
  },
  {
   "cell_type": "code",
   "execution_count": 13,
   "metadata": {},
   "outputs": [
    {
     "data": {
      "text/plain": [
       "array([[1.        , 0.01440567, 0.01641314, ..., 0.0062499 , 0.02082519,\n",
       "        0.01381292],\n",
       "       [0.01440567, 1.        , 0.08475317, ..., 0.00564593, 0.01343619,\n",
       "        0.01014336],\n",
       "       [0.01641314, 0.08475317, 1.        , ..., 0.0067767 , 0.02926069,\n",
       "        0.01217489],\n",
       "       ...,\n",
       "       [0.0062499 , 0.00564593, 0.0067767 , ..., 1.        , 0.0219196 ,\n",
       "        0.01246007],\n",
       "       [0.02082519, 0.01343619, 0.02926069, ..., 0.0219196 , 1.        ,\n",
       "        0.02479515],\n",
       "       [0.01381292, 0.01014336, 0.01217489, ..., 0.01246007, 0.02479515,\n",
       "        1.        ]])"
      ]
     },
     "execution_count": 13,
     "metadata": {},
     "output_type": "execute_result"
    }
   ],
   "source": [
    "similarity"
   ]
  },
  {
   "cell_type": "code",
   "execution_count": 14,
   "metadata": {},
   "outputs": [
    {
     "data": {
      "text/plain": [
       "<enumerate at 0x1f2c6c30680>"
      ]
     },
     "execution_count": 14,
     "metadata": {},
     "output_type": "execute_result"
    }
   ],
   "source": [
    "enumerate(similarity[0])"
   ]
  },
  {
   "cell_type": "code",
   "execution_count": 15,
   "metadata": {},
   "outputs": [
    {
     "data": {
      "text/plain": [
       "[(150, 0.13041535644842311),\n",
       " (211, 0.09804089688254287),\n",
       " (155, 0.09272044580912779),\n",
       " (119, 0.08083252315261127),\n",
       " (120, 0.07652632054836567),\n",
       " (244, 0.0707539093771996),\n",
       " (59, 0.06211238048463597),\n",
       " (187, 0.06154660284795037),\n",
       " (45, 0.05898980117825574),\n",
       " (61, 0.05826849454665234),\n",
       " (124, 0.053122434120723414),\n",
       " (135, 0.05244365710548363),\n",
       " (103, 0.05219989443103669),\n",
       " (241, 0.05076959928374551),\n",
       " (251, 0.04808754673765667),\n",
       " (230, 0.04771363685851897),\n",
       " (11, 0.04766292398664772),\n",
       " (99, 0.04762925770189176),\n",
       " (141, 0.04382415573836639)]"
      ]
     },
     "execution_count": 15,
     "metadata": {},
     "output_type": "execute_result"
    }
   ],
   "source": [
    "sorted(list(enumerate(similarity[0])), key=lambda x: x[1], reverse=True)[1:20]"
   ]
  },
  {
   "cell_type": "code",
   "execution_count": 16,
   "metadata": {},
   "outputs": [],
   "source": [
    "def recommend(title):\n",
    "\n",
    "        indx = df[df['Role'] == title].index[0]\n",
    "        indx = df.index.get_loc(indx)\n",
    "        distances = sorted(list(enumerate(similarity[indx])), key=lambda x: x[1], reverse=True)[1:20]\n",
    "\n",
    "        jobs = []\n",
    "        for i in distances:\n",
    "            jobs.append(df.iloc[i[0]]['Role'])\n",
    "        return jobs"
   ]
  },
  {
   "cell_type": "code",
   "execution_count": 17,
   "metadata": {},
   "outputs": [
    {
     "data": {
      "text/plain": [
       "['Mental Health Counselor',\n",
       " 'Family Counselor',\n",
       " 'Investment Advisor',\n",
       " 'Customer Support Manager',\n",
       " 'Personal Assistant',\n",
       " 'Personal Secretary',\n",
       " 'Accessibility Developer',\n",
       " 'Operations Director',\n",
       " 'IT Director',\n",
       " 'Administrative Assistant',\n",
       " 'Adult Speech Therapist',\n",
       " 'Help Desk Support Specialist',\n",
       " 'Financial Analyst',\n",
       " 'Live Chat Support Agent',\n",
       " 'HR Compliance Specialist',\n",
       " 'Personal Tax Consultant',\n",
       " 'Strategic Sourcing Manager',\n",
       " 'City Planner',\n",
       " 'Pediatric Physical Therapist']"
      ]
     },
     "execution_count": 17,
     "metadata": {},
     "output_type": "execute_result"
    }
   ],
   "source": [
    "recommend('Addiction Counselor')"
   ]
  },
  {
   "cell_type": "code",
   "execution_count": 18,
   "metadata": {},
   "outputs": [
    {
     "data": {
      "text/plain": [
       "['similarity.pkl']"
      ]
     },
     "execution_count": 18,
     "metadata": {},
     "output_type": "execute_result"
    }
   ],
   "source": [
    "import joblib\n",
    "\n",
    "\n",
    "joblib.dump(df, 'df.pkl')\n",
    "joblib.dump(similarity, 'similarity.pkl')\n"
   ]
  },
  {
   "cell_type": "code",
   "execution_count": 19,
   "metadata": {},
   "outputs": [
    {
     "name": "stdout",
     "output_type": "stream",
     "text": [
      "2.0.3\n"
     ]
    }
   ],
   "source": [
    "\n",
    "import pandas as pd\n",
    "print(pd.__version__)"
   ]
  }
 ],
 "metadata": {
  "kernelspec": {
   "display_name": "Python 3",
   "language": "python",
   "name": "python3"
  },
  "language_info": {
   "codemirror_mode": {
    "name": "ipython",
    "version": 3
   },
   "file_extension": ".py",
   "mimetype": "text/x-python",
   "name": "python",
   "nbconvert_exporter": "python",
   "pygments_lexer": "ipython3",
   "version": "3.11.4"
  }
 },
 "nbformat": 4,
 "nbformat_minor": 2
}
